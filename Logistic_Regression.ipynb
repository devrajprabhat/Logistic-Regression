{
  "nbformat": 4,
  "nbformat_minor": 0,
  "metadata": {
    "colab": {
      "provenance": []
    },
    "kernelspec": {
      "name": "python3",
      "display_name": "Python 3"
    },
    "language_info": {
      "name": "python"
    }
  },
  "cells": [
    {
      "cell_type": "markdown",
      "source": [
        "# **Theoretical**"
      ],
      "metadata": {
        "id": "sUAYWC6glVJ-"
      }
    },
    {
      "cell_type": "markdown",
      "source": [
        "1. What is Logistic Regression, and how does it differ from Linear Regression?\n",
        "  -  Logistic Regression is a statistical method for binary classification that predicts the probability of a class label (0 or 1).\n",
        "  - Linear Regression predicts a continuous output, while logistic regression uses the sigmoid function to constrain the output between 0 and 1."
      ],
      "metadata": {
        "id": "qntvvCCOlc5G"
      }
    },
    {
      "cell_type": "markdown",
      "source": [
        "2.  What is the mathematical equation of Logistic Regression?\n",
        "   - The hypothesis function is:\n",
        "   - hθ(x)= 1/1+e^-0tx\n",
        "   - This is the sigmoid function applied to the linear combination of inputs and weights."
      ],
      "metadata": {
        "id": "cHpNC2U7lsk8"
      }
    },
    {
      "cell_type": "markdown",
      "source": [
        "3. Why do we use the Sigmoid function in Logistic Regression?\n",
        "   - The sigmoid function maps real-valued inputs to the range (0, 1), making it ideal for interpreting output as probabilities.\n",
        "   - σ(z)= 1/1+e^-z"
      ],
      "metadata": {
        "id": "q9dtAFiSmJCX"
      }
    },
    {
      "cell_type": "markdown",
      "source": [
        "4. What is the cost function of Logistic Regression?\n",
        "   - The log loss (binary cross-entropy) is used:\n",
        "   - J\n",
        "​(θ)\n",
        "​​ =−\n",
        "​m\n",
        "​\n",
        "​1\n",
        "​​ [\n",
        "​i=1\n",
        "​∑\n",
        "​m\n",
        "​​ y\n",
        "​(i)\n",
        "​​ log(h\n",
        "​θ\n",
        "​​ (x\n",
        "​(i)\n",
        "​​ )+(1−y\n",
        "​(i)\n",
        "​​ )log(1−h\n",
        "​θ\n",
        "​​ (x\n",
        "​(i)\n",
        "​​ ))]"
      ],
      "metadata": {
        "id": "Hoy_3-0-maIe"
      }
    },
    {
      "cell_type": "markdown",
      "source": [
        "5. What is Regularization in Logistic Regression? Why is it needed?\n",
        "   - Regularization adds a penalty to the cost function to prevent overfitting. Common types:\n",
        "\n",
        "- L1 (Lasso): promotes sparsity\n",
        "\n",
        "- L2 (Ridge): reduces coefficient magnitudes"
      ],
      "metadata": {
        "id": "0_A_rUaKnOt2"
      }
    },
    {
      "cell_type": "markdown",
      "source": [
        "6.  Explain the difference between Lasso, Ridge, and Elastic Net regression?\n",
        "   - Ridge Regression (L2 Penalty): Adds a penalty based on the square of the coefficients. It shrinks coefficients towards zero but never exactly to zero, keeping all features. Excellent for handling multicollinearity by shrinking correlated features together.\n",
        "\n",
        "- Lasso Regression (L1 Penalty): Adds a penalty based on the absolute value of the coefficients. It can shrink coefficients exactly to zero, performing automatic feature selection by effectively removing less important features. Can be unstable with highly correlated features (tends to pick one).\n",
        "\n",
        "- Elastic Net Regression (L1 + L2 Penalty): Combines both Lasso and Ridge penalties. It offers the feature selection of Lasso and the multicollinearity handling of Ridge. It tends to select groups of correlated features together, overcoming Lasso's limitation in such cases."
      ],
      "metadata": {
        "id": "v6DMovgPndV3"
      }
    },
    {
      "cell_type": "markdown",
      "source": [
        "7. When should we use Elastic Net instead of Lasso or Ridge?\n",
        "   - When you suspect multiple correlated features and want to combine L1 and L2 regularization.\n",
        "\n",
        "- Elastic Net can select features like Lasso and shrink them like Ridge"
      ],
      "metadata": {
        "id": "xraLPeKJoPZa"
      }
    },
    {
      "cell_type": "markdown",
      "source": [
        "8.  What is the impact of the regularization parameter (λ) in Logistic Regression?\n",
        "   - High λ → More regularization → Smaller coefficients\n",
        "\n",
        "- Low λ → Less regularization → Model may overfit\n",
        "\n",
        "In scikit-learn, this is controlled using C = 1/λ."
      ],
      "metadata": {
        "id": "UKVt6t_UocZS"
      }
    },
    {
      "cell_type": "markdown",
      "source": [
        "9. What are the key assumptions of Logistic Regression?\n",
        "   - Linearity of log-odds with independent variables\n",
        "- No multicollinearity among predictors\n",
        "- Large sample size\n",
        "- Independent observations"
      ],
      "metadata": {
        "id": "4TBtZEevo-hk"
      }
    },
    {
      "cell_type": "markdown",
      "source": [
        "10. What are some alternatives to Logistic Regression for classification tasks?\n",
        "   - Decision Trees\n",
        "- Random Forest\n",
        "- SVM (Support Vector Machines)\n",
        "- Naive Bayes\n",
        "- Gradient Boosting (XGBoost, LightGBM)"
      ],
      "metadata": {
        "id": "MPPdlc4GpNE4"
      }
    },
    {
      "cell_type": "markdown",
      "source": [
        "11. What are Classification Evaluation Metrics?\n",
        "   - Accuracy\n",
        "- Precision\n",
        "- Recall\n",
        "- F1 Score\n",
        "- ROC-AUC\n",
        "- Confusion Matrix\n",
        "- Cohen’s Kappa\n",
        "- MCC"
      ],
      "metadata": {
        "id": "iWub0lrppZwD"
      }
    },
    {
      "cell_type": "markdown",
      "source": [
        "12. How does class imbalance affect Logistic Regression?\n",
        "   - Leads to bias toward majority class\n",
        "\n",
        "- Accuracy becomes misleading\n",
        "\n",
        "Use:\n",
        "\n",
        "class_weight='balanced'\n",
        "\n",
        "Oversampling (SMOTE)\n",
        "\n",
        "Precision-Recall metrics"
      ],
      "metadata": {
        "id": "m-Kc16dSpn3v"
      }
    },
    {
      "cell_type": "markdown",
      "source": [
        "13.  What is Hyperparameter Tuning in Logistic Regression?\n",
        "   - It's the process of optimizing model parameters like:\n",
        "\n",
        "- C (regularization strength)\n",
        "- penalty ('l1', 'l2', 'elasticnet')\n",
        "- solver\n",
        "\n",
        "Common methods: GridSearchCV, RandomizedSearchCV"
      ],
      "metadata": {
        "id": "E_af0G5mp4kZ"
      }
    },
    {
      "cell_type": "markdown",
      "source": [
        "14.  What are different solvers in Logistic Regression? Which one should be used?\n",
        "   - Solvers in Logistic Regression are algorithms that find the optimal model coefficients. Here are the common ones and their typical uses:\n",
        "\n",
        "- 'liblinear': Good for small to medium datasets, supports L1 (feature selection) and L2 regularization.\n",
        "- 'lbfgs': The default and generally good all-rounder for medium to large datasets, supports L2 regularization.\n",
        "- 'newton-cg': Similar to 'lbfgs' but can be slower, supports L2.\n",
        "- 'sag': Faster for very large datasets with L2 regularization, requires feature scaling.\n",
        "- 'saga': Best for very large datasets as it supports L1, L2, and Elastic Net, also benefits greatly from feature scaling.\n",
        "\n",
        "Which to use:\n",
        "\n",
        "- For general cases, start with 'lbfgs'.\n",
        "\n",
        "- If you need L1 regularization (feature selection), choose 'liblinear' (for smaller data) or 'saga' (for larger data).\n",
        "\n",
        "- For very large datasets (especially with Elastic Net), 'saga' is usually the best choice, but remember to scale your features"
      ],
      "metadata": {
        "id": "zm456auUqHNh"
      }
    },
    {
      "cell_type": "markdown",
      "source": [
        "15.  How is Logistic Regression extended for multiclass classification?\n",
        "   - Two main strategies:\n",
        "\n",
        "- One-vs-Rest (OvR) – default in scikit-learn\n",
        "\n",
        "- Multinomial (Softmax Regression) – with multi_class='multinomial' and solver like lbfgs"
      ],
      "metadata": {
        "id": "dfDVBTPNqo25"
      }
    },
    {
      "cell_type": "markdown",
      "source": [
        "16. What are the advantages and disadvantages of Logistic Regression?\n",
        "   - Advantages:\n",
        "\n",
        "- Easy to implement and interpret\n",
        "\n",
        "- Probabilistic outputs\n",
        "\n",
        "- Fast training\n",
        "\n",
        "Disadvantages:\n",
        "\n",
        "- Assumes linear decision boundary\n",
        "\n",
        "- Sensitive to multicollinearity\n",
        "\n",
        "- Struggles with complex data patterns"
      ],
      "metadata": {
        "id": "kn9QErMaqzmI"
      }
    },
    {
      "cell_type": "markdown",
      "source": [
        "17. What are some use cases of Logistic Regression?\n",
        "   - Spam detection\n",
        "\n",
        "- Credit scoring\n",
        "\n",
        "- Customer churn prediction\n",
        "\n",
        "- Medical diagnosis\n",
        "\n",
        "- Click-through rate prediction"
      ],
      "metadata": {
        "id": "2v95ThBirD0a"
      }
    },
    {
      "cell_type": "markdown",
      "source": [
        "18.  What is the difference between Softmax Regression and Logistic Regression?\n",
        "   - Logistic Regression: binary classification using sigmoid\n",
        "\n",
        "- Softmax Regression: multiclass classification using softmax function\n",
        "\n",
        "Softmax outputs a probability distribution over multiple classes."
      ],
      "metadata": {
        "id": "tix2-y4DrOt6"
      }
    },
    {
      "cell_type": "markdown",
      "source": [
        "19. How do we choose between One-vs-Rest (OvR) and Softmax for multiclass classification?\n",
        "   - Use Softmax (multinomial) for balanced multiclass problems\n",
        "\n",
        "Use OvR when:\n",
        "\n",
        "- Binary classifiers perform better\n",
        "\n",
        "- Data is sparse or unbalanced"
      ],
      "metadata": {
        "id": "2nl4SxvYrZYF"
      }
    },
    {
      "cell_type": "markdown",
      "source": [
        "20. How do we interpret coefficients in Logistic Regression?\n",
        "   - Each coefficient 0i represents the log-odds change in the target for a unit increase in xi, keeping other variables constant.\n",
        "   - Odds ratio = e^0i\n",
        "   - Positive → increases odds\n",
        "\n",
        "- Negative → decreases odds"
      ],
      "metadata": {
        "id": "ZAQXdS2wrnBX"
      }
    },
    {
      "cell_type": "markdown",
      "source": [
        "# **Practical**"
      ],
      "metadata": {
        "id": "Mps0HdEAsDYU"
      }
    },
    {
      "cell_type": "code",
      "source": [
        "# 1.  Write a Python program that loads a dataset, splits it into training and testing sets, applies Logistic\n",
        "   # Regression, and prints the model accuracy\n",
        "\n",
        "import pandas as pd\n",
        "from sklearn.model_selection import train_test_split\n",
        "from sklearn.linear_model import LogisticRegression\n",
        "from sklearn.metrics import accuracy_score\n",
        "from sklearn.datasets import load_breast_cancer\n",
        "\n",
        "# Load dataset\n",
        "data = load_breast_cancer()\n",
        "X = pd.DataFrame(data.data, columns=data.feature_names)\n",
        "y = pd.Series(data.target)\n",
        "\n",
        "# Split data\n",
        "X_train, X_test, y_train, y_test = train_test_split(X, y, test_size=0.2, random_state=42)\n",
        "\n",
        "# Train Logistic Regression model\n",
        "model = LogisticRegression(max_iter=10000)\n",
        "model.fit(X_train, y_train)\n",
        "\n",
        "# Predict and evaluate\n",
        "y_pred = model.predict(X_test)\n",
        "accuracy = accuracy_score(y_test, y_pred)\n",
        "\n",
        "print(f\"Model Accuracy: {accuracy:.2f}\")\n",
        "\n"
      ],
      "metadata": {
        "colab": {
          "base_uri": "https://localhost:8080/"
        },
        "id": "E50pXC8asKbj",
        "outputId": "9c880187-1989-416a-ea66-e59f5e0b7316"
      },
      "execution_count": 40,
      "outputs": [
        {
          "output_type": "stream",
          "name": "stdout",
          "text": [
            "Model Accuracy: 0.96\n"
          ]
        }
      ]
    },
    {
      "cell_type": "code",
      "source": [
        "# 2.  Write a Python program to apply L1 regularization (Lasso) on a dataset using LogisticRegression(penalty='l1')\n",
        "#     and print the model accuracy\n",
        "\n",
        "\n",
        "from sklearn.linear_model import LogisticRegression\n",
        "from sklearn.preprocessing import StandardScaler\n",
        "\n",
        "# Scale data (important for L1 regularization)\n",
        "scaler = StandardScaler()\n",
        "X_scaled = scaler.fit_transform(X)\n",
        "\n",
        "# Split\n",
        "X_train, X_test, y_train, y_test = train_test_split(X_scaled, y, test_size=0.2, random_state=42)\n",
        "\n",
        "# L1 Regularized Logistic Regression\n",
        "model_l1 = LogisticRegression(penalty='l1', solver='liblinear')\n",
        "model_l1.fit(X_train, y_train)\n",
        "\n",
        "# Predict and evaluate\n",
        "y_pred_l1 = model_l1.predict(X_test)\n",
        "accuracy_l1 = accuracy_score(y_test, y_pred_l1)\n",
        "\n",
        "print(f\"L1 Regularized Model Accuracy: {accuracy_l1:.2f}\")\n"
      ],
      "metadata": {
        "colab": {
          "base_uri": "https://localhost:8080/"
        },
        "id": "2GspmPZxsTai",
        "outputId": "b80b09b9-5423-4c8c-f9a8-77e6287068c6"
      },
      "execution_count": 41,
      "outputs": [
        {
          "output_type": "stream",
          "name": "stdout",
          "text": [
            "L1 Regularized Model Accuracy: 0.97\n"
          ]
        }
      ]
    },
    {
      "cell_type": "code",
      "source": [
        "# 3.  Write a Python program to train Logistic Regression with L2 regularization (Ridge) using\n",
        "#     LogisticRegression(penalty='l2'). Print model accuracy and coefficients\n",
        "\n",
        "\n",
        "# L2 Regularized Logistic Regression\n",
        "model_l2 = LogisticRegression(penalty='l2', solver='liblinear')\n",
        "model_l2.fit(X_train, y_train)\n",
        "\n",
        "# Predict and evaluate\n",
        "y_pred_l2 = model_l2.predict(X_test)\n",
        "accuracy_l2 = accuracy_score(y_test, y_pred_l2)\n",
        "\n",
        "print(f\"L2 Regularized Model Accuracy: {accuracy_l2:.2f}\")\n",
        "print(\"Model Coefficients:\")\n",
        "print(model_l2.coef_)\n"
      ],
      "metadata": {
        "colab": {
          "base_uri": "https://localhost:8080/"
        },
        "id": "-bj49c7Xsdj3",
        "outputId": "16797369-86e7-4242-a421-d2000d125628"
      },
      "execution_count": 42,
      "outputs": [
        {
          "output_type": "stream",
          "name": "stdout",
          "text": [
            "L2 Regularized Model Accuracy: 0.97\n",
            "Model Coefficients:\n",
            "[[-0.41791087 -0.39754156 -0.38086516 -0.47805053 -0.05755453  0.53609039\n",
            "  -0.81998261 -1.11710283  0.24152876  0.05833728 -1.26288337  0.18834546\n",
            "  -0.59574739 -0.9480631  -0.32281552  0.68606654  0.17908305 -0.29745712\n",
            "   0.49210935  0.59179367 -0.87580453 -1.34818801 -0.58827723 -0.86907165\n",
            "  -0.54602135  0.00258319 -0.95001734 -0.77533547 -1.1884736  -0.1693959 ]]\n"
          ]
        }
      ]
    },
    {
      "cell_type": "code",
      "source": [
        "# 4.  Write a Python program to train Logistic Regression with Elastic Net Regularization (penalty='elasticnet')\n",
        "\n",
        " # Elastic Net requires 'saga' solver\n",
        "model_elastic = LogisticRegression(penalty='elasticnet', l1_ratio=0.5, solver='saga', max_iter=5000)\n",
        "model_elastic.fit(X_train, y_train)\n",
        "\n",
        "# Predict and evaluate\n",
        "y_pred_elastic = model_elastic.predict(X_test)\n",
        "accuracy_elastic = accuracy_score(y_test, y_pred_elastic)\n",
        "\n",
        "print(f\"Elastic Net Model Accuracy: {accuracy_elastic:.2f}\")\n",
        "\n"
      ],
      "metadata": {
        "colab": {
          "base_uri": "https://localhost:8080/"
        },
        "id": "jG3NtI2LslBb",
        "outputId": "6d4d443c-c6d4-491c-c56b-61b3ba6fabd7"
      },
      "execution_count": 43,
      "outputs": [
        {
          "output_type": "stream",
          "name": "stdout",
          "text": [
            "Elastic Net Model Accuracy: 0.97\n"
          ]
        }
      ]
    },
    {
      "cell_type": "code",
      "source": [
        "# 5.  Write a Python program to train a Logistic Regression model for multiclass classification using\n",
        "#     multi_class='ovr'\n",
        "\n",
        "from sklearn.datasets import load_iris\n",
        "\n",
        "# Load multiclass dataset\n",
        "iris = load_iris()\n",
        "X_iris = iris.data\n",
        "y_iris = iris.target\n",
        "\n",
        "# Split\n",
        "X_train, X_test, y_train, y_test = train_test_split(X_iris, y_iris, test_size=0.2, random_state=42)\n",
        "\n",
        "# Train Logistic Regression with OvR\n",
        "model_ovr = LogisticRegression(multi_class='ovr', max_iter=1000)\n",
        "model_ovr.fit(X_train, y_train)\n",
        "\n",
        "# Predict and evaluate\n",
        "y_pred_ovr = model_ovr.predict(X_test)\n",
        "accuracy_ovr = accuracy_score(y_test, y_pred_ovr)\n",
        "\n",
        "print(f\"Multiclass (OvR) Accuracy: {accuracy_ovr:.2f}\")\n"
      ],
      "metadata": {
        "colab": {
          "base_uri": "https://localhost:8080/"
        },
        "id": "UqwUXvW6sunQ",
        "outputId": "426c206a-459d-4453-89ee-f34e39d40a7c"
      },
      "execution_count": 44,
      "outputs": [
        {
          "output_type": "stream",
          "name": "stdout",
          "text": [
            "Multiclass (OvR) Accuracy: 0.97\n"
          ]
        },
        {
          "output_type": "stream",
          "name": "stderr",
          "text": [
            "/usr/local/lib/python3.11/dist-packages/sklearn/linear_model/_logistic.py:1256: FutureWarning: 'multi_class' was deprecated in version 1.5 and will be removed in 1.7. Use OneVsRestClassifier(LogisticRegression(..)) instead. Leave it to its default value to avoid this warning.\n",
            "  warnings.warn(\n"
          ]
        }
      ]
    },
    {
      "cell_type": "code",
      "source": [
        "# 6.  Write a Python program to apply GridSearchCV to tune the hyperparameters (C and penalty) of Logistic\n",
        "#     Regression. Print the best parameters and accuracy\n",
        "\n",
        "from sklearn.model_selection import GridSearchCV\n",
        "\n",
        "# Define parameter grid\n",
        "param_grid = {\n",
        "    'C': [0.01, 0.1, 1, 10],\n",
        "    'penalty': ['l1', 'l2'],\n",
        "    'solver': ['liblinear']\n",
        "}\n",
        "\n",
        "grid = GridSearchCV(LogisticRegression(), param_grid, cv=5, scoring='accuracy')\n",
        "grid.fit(X_train, y_train)\n",
        "\n",
        "print(\"Best Parameters:\", grid.best_params_)\n",
        "print(f\"Best Accuracy: {grid.best_score_:.2f}\")\n"
      ],
      "metadata": {
        "colab": {
          "base_uri": "https://localhost:8080/"
        },
        "id": "KxN-eXCQs_We",
        "outputId": "eb2e5d12-9b41-4bb3-b50a-a3459b274b8f"
      },
      "execution_count": 45,
      "outputs": [
        {
          "output_type": "stream",
          "name": "stdout",
          "text": [
            "Best Parameters: {'C': 10, 'penalty': 'l1', 'solver': 'liblinear'}\n",
            "Best Accuracy: 0.96\n"
          ]
        }
      ]
    },
    {
      "cell_type": "code",
      "source": [
        "# 7. Write a Python program to evaluate Logistic Regression using Stratified K-Fold Cross-Validation. Print the\n",
        "#    average accuracy\n",
        "\n",
        "from sklearn.model_selection import StratifiedKFold, cross_val_score\n",
        "\n",
        "# Stratified K-Fold\n",
        "skf = StratifiedKFold(n_splits=5)\n",
        "model = LogisticRegression(max_iter=10000)\n",
        "\n",
        "scores = cross_val_score(model, X_scaled, y, cv=skf, scoring='accuracy')\n",
        "print(f\"Cross-Validation Scores: {scores}\")\n",
        "print(f\"Average Accuracy: {scores.mean():.2f}\")\n"
      ],
      "metadata": {
        "colab": {
          "base_uri": "https://localhost:8080/"
        },
        "id": "uAxeBCcrtGy3",
        "outputId": "7a3df646-60c8-40e9-ffed-b261a9f04244"
      },
      "execution_count": 46,
      "outputs": [
        {
          "output_type": "stream",
          "name": "stdout",
          "text": [
            "Cross-Validation Scores: [0.98245614 0.98245614 0.97368421 0.97368421 0.99115044]\n",
            "Average Accuracy: 0.98\n"
          ]
        }
      ]
    },
    {
      "cell_type": "code",
      "metadata": {
        "colab": {
          "base_uri": "https://localhost:8080/"
        },
        "id": "7acf1298",
        "outputId": "ef50d4f1-b985-4efb-f2db-426cf8dd4410"
      },
      "source": [
        "# 8.  Write a Python program to load a dataset from a CSV file, apply Logistic Regression, and evaluate its\n",
        "#     accuracy.\n",
        "\n",
        "# Create a dummy CSV for demonstration\n",
        "data = {'feature1': [1, 2, 3, 4, 5],\n",
        "        'feature2': [6, 7, 8, 9, 10],\n",
        "        'target': [0, 1, 0, 1, 0]}\n",
        "dummy_df = pd.DataFrame(data)\n",
        "dummy_df.to_csv('your_dataset.csv', index=False)\n",
        "\n",
        "\n",
        "# Load from CSV\n",
        "data = pd.read_csv('your_dataset.csv')  # Replace with actual path\n",
        "X = data.drop('target', axis=1)  # Replace 'target' with actual target column name\n",
        "y = data['target']\n",
        "\n",
        "# Split and train\n",
        "X_train, X_test, y_train, y_test = train_test_split(X, y, test_size=0.2)\n",
        "model = LogisticRegression(max_iter=10000)\n",
        "model.fit(X_train, y_train)\n",
        "\n",
        "# Predict\n",
        "y_pred = model.predict(X_test)\n",
        "accuracy = accuracy_score(y_test, y_pred)\n",
        "print(f\"Accuracy: {accuracy:.2f}\")"
      ],
      "execution_count": 47,
      "outputs": [
        {
          "output_type": "stream",
          "name": "stdout",
          "text": [
            "Accuracy: 0.00\n"
          ]
        }
      ]
    },
    {
      "cell_type": "code",
      "source": [
        "# 9. Write a Python program to apply RandomizedSearchCV for tuning hyperparameters (C, penalty, solver) in\n",
        "#    Logistic Regression. Print the best parameters and accuracy\n",
        "\n",
        "from sklearn.model_selection import RandomizedSearchCV\n",
        "import numpy as np\n",
        "\n",
        "param_dist = {\n",
        "    'C': np.logspace(-4, 4, 20),\n",
        "    'penalty': ['l1', 'l2'],\n",
        "    'solver': ['liblinear', 'saga']\n",
        "}\n",
        "\n",
        "# Randomized Search CV\n",
        "random_search = RandomizedSearchCV(LogisticRegression(max_iter=10000), param_distributions=param_dist, n_iter=10, cv=2, scoring='accuracy', random_state=42)\n",
        "random_search.fit(X_train, y_train)\n",
        "\n",
        "print(\"Best Parameters:\", random_search.best_params_)\n",
        "print(f\"Best Accuracy: {random_search.best_score_:.2f}\")"
      ],
      "metadata": {
        "colab": {
          "base_uri": "https://localhost:8080/"
        },
        "id": "-Wc5za0ftSTO",
        "outputId": "87dada18-a9a2-4c40-ac38-200bb284f942"
      },
      "execution_count": 48,
      "outputs": [
        {
          "output_type": "stream",
          "name": "stdout",
          "text": [
            "Best Parameters: {'solver': 'liblinear', 'penalty': 'l2', 'C': np.float64(0.08858667904100823)}\n",
            "Best Accuracy: 0.50\n"
          ]
        }
      ]
    },
    {
      "cell_type": "code",
      "source": [
        "# 10. Write a Python program to implement One-vs-One (OvO) Multiclass Logistic Regression and print accuracy\n",
        "\n",
        "#from sklearn.multiclass import OneVsOneClassifier\n",
        "\n",
        "# One-vs-One Multiclass Logistic Regression\n",
        "#ovo_model = OneVsOneClassifier(LogisticRegression(max_iter=10000))\n",
        "#ovo_model.fit(X_train, y_train)\n",
        "\n",
        "from sklearn.multiclass import OneVsOneClassifier\n",
        "\n",
        "ovo_model = OneVsOneClassifier(LogisticRegression(max_iter=10000))\n",
        "ovo_model.fit(X_train, y_train)\n",
        "accuracy_ovo = ovo_model.score(X_test, y_test)\n",
        "\n",
        "print(f\"OvO Accuracy: {accuracy_ovo:.2f}\")\n"
      ],
      "metadata": {
        "colab": {
          "base_uri": "https://localhost:8080/"
        },
        "id": "3j4R1T07taV1",
        "outputId": "838c79a1-c6de-49dd-c48b-caa395d8a260"
      },
      "execution_count": 49,
      "outputs": [
        {
          "output_type": "stream",
          "name": "stdout",
          "text": [
            "OvO Accuracy: 0.00\n"
          ]
        }
      ]
    },
    {
      "cell_type": "code",
      "source": [
        "# 11. Write a Python program to train a Logistic Regression model and visualize the confusion matrix for binary\n",
        "#     classification\n",
        "\n",
        "from sklearn.metrics import confusion_matrix, ConfusionMatrixDisplay\n",
        "import matplotlib.pyplot as plt\n",
        "\n",
        "y_pred = model.predict(X_test)\n",
        "cm = confusion_matrix(y_test, y_pred)\n",
        "\n",
        "disp = ConfusionMatrixDisplay(confusion_matrix=cm)\n",
        "disp.plot()\n",
        "plt.title(\"Confusion Matrix\")\n",
        "plt.show()\n"
      ],
      "metadata": {
        "colab": {
          "base_uri": "https://localhost:8080/",
          "height": 472
        },
        "id": "LsGoKP6fteem",
        "outputId": "6ef3914d-c25f-4167-cd4b-2513f90ac588"
      },
      "execution_count": 50,
      "outputs": [
        {
          "output_type": "display_data",
          "data": {
            "text/plain": [
              "<Figure size 640x480 with 2 Axes>"
            ],
            "image/png": "[encoded data removed]"
          },
          "metadata": {}
        }
      ]
    },
    {
      "cell_type": "code",
      "source": [
        "# 12. Write a Python program to train a Logistic Regression model and evaluate its performance using Precision,\n",
        "#     Recall, and F1-Score\n",
        "\n",
        "from sklearn.metrics import precision_score, recall_score, f1_score\n",
        "\n",
        "print(\"Precision:\", precision_score(y_test, y_pred))\n",
        "print(\"Recall:\", recall_score(y_test, y_pred))\n",
        "print(\"F1 Score:\", f1_score(y_test, y_pred))\n"
      ],
      "metadata": {
        "colab": {
          "base_uri": "https://localhost:8080/"
        },
        "id": "qlaD40H-tkW3",
        "outputId": "54c2882a-d6e4-4040-f054-1a5114cbabbf"
      },
      "execution_count": 51,
      "outputs": [
        {
          "output_type": "stream",
          "name": "stdout",
          "text": [
            "Precision: 0.0\n",
            "Recall: 0.0\n",
            "F1 Score: 0.0\n"
          ]
        },
        {
          "output_type": "stream",
          "name": "stderr",
          "text": [
            "/usr/local/lib/python3.11/dist-packages/sklearn/metrics/_classification.py:1565: UndefinedMetricWarning: Recall is ill-defined and being set to 0.0 due to no true samples. Use `zero_division` parameter to control this behavior.\n",
            "  _warn_prf(average, modifier, f\"{metric.capitalize()} is\", len(result))\n"
          ]
        }
      ]
    },
    {
      "cell_type": "code",
      "source": [
        "# 13.  Write a Python program to train a Logistic Regression model on imbalanced data and apply class weights to\n",
        "#      improve model performance\n",
        "\n",
        "imbalanced_model = LogisticRegression(class_weight='balanced', max_iter=10000)\n",
        "imbalanced_model.fit(X_train, y_train)\n",
        "y_pred_imb = imbalanced_model.predict(X_test)\n",
        "\n",
        "print(\"Accuracy (Imbalanced):\", accuracy_score(y_test, y_pred_imb))\n"
      ],
      "metadata": {
        "colab": {
          "base_uri": "https://localhost:8080/"
        },
        "id": "VfA2FJZmtqty",
        "outputId": "c3a3b85f-46d8-4231-c3df-735dca222359"
      },
      "execution_count": 52,
      "outputs": [
        {
          "output_type": "stream",
          "name": "stdout",
          "text": [
            "Accuracy (Imbalanced): 0.0\n"
          ]
        }
      ]
    },
    {
      "cell_type": "code",
      "source": [
        "# 14. Write a Python program to train Logistic Regression on the Titanic dataset, handle missing values, and\n",
        "#     evaluate performance\n",
        "\n",
        "import seaborn as sns\n",
        "\n",
        "# Load Titanic dataset\n",
        "titanic = sns.load_dataset('titanic')\n",
        "titanic.dropna(subset=['age', 'embarked', 'fare'], inplace=True)\n",
        "titanic['sex'] = titanic['sex'].map({'male': 0, 'female': 1})\n",
        "titanic['embarked'] = titanic['embarked'].map({'S': 0, 'C': 1, 'Q': 2})\n",
        "\n",
        "X = titanic[['age', 'fare', 'sex', 'embarked']]\n",
        "y = titanic['survived']\n",
        "\n",
        "X_train, X_test, y_train, y_test = train_test_split(X, y, test_size=0.2)\n",
        "\n",
        "model = LogisticRegression(max_iter=10000)\n",
        "model.fit(X_train, y_train)\n",
        "\n",
        "print(\"Titanic Accuracy:\", model.score(X_test, y_test))\n"
      ],
      "metadata": {
        "colab": {
          "base_uri": "https://localhost:8080/"
        },
        "id": "HZV63QPwtxfK",
        "outputId": "2516359b-bdf3-42b0-f5fe-4865e85afda1"
      },
      "execution_count": 53,
      "outputs": [
        {
          "output_type": "stream",
          "name": "stdout",
          "text": [
            "Titanic Accuracy: 0.7692307692307693\n"
          ]
        }
      ]
    },
    {
      "cell_type": "code",
      "source": [
        "# 15. Write a Python program to apply feature scaling (Standardization) before training a Logistic Regression\n",
        "#     model. Evaluate its accuracy and compare results with and without scaling\n",
        "\n",
        "# Without scaling\n",
        "model = LogisticRegression()\n",
        "model.fit(X_train, y_train)\n",
        "acc_unscaled = model.score(X_test, y_test)\n",
        "\n",
        "# With scaling\n",
        "scaler = StandardScaler()\n",
        "X_scaled_train = scaler.fit_transform(X_train)\n",
        "X_scaled_test = scaler.transform(X_test)\n",
        "\n",
        "model_scaled = LogisticRegression()\n",
        "model_scaled.fit(X_scaled_train, y_train)\n",
        "acc_scaled = model_scaled.score(X_scaled_test, y_test)\n",
        "\n",
        "print(f\"Unscaled Accuracy: {acc_unscaled:.2f}\")\n",
        "print(f\"Scaled Accuracy: {acc_scaled:.2f}\")\n"
      ],
      "metadata": {
        "colab": {
          "base_uri": "https://localhost:8080/"
        },
        "id": "MpOlgYw6t3kO",
        "outputId": "942b493e-810a-4687-a6e8-7ef43585f7da"
      },
      "execution_count": 54,
      "outputs": [
        {
          "output_type": "stream",
          "name": "stdout",
          "text": [
            "Unscaled Accuracy: 0.77\n",
            "Scaled Accuracy: 0.77\n"
          ]
        }
      ]
    },
    {
      "cell_type": "code",
      "source": [
        "# 16. Write a Python program to train Logistic Regression and evaluate its performance using ROC-AUC score\n",
        "\n",
        "from sklearn.metrics import roc_auc_score\n",
        "\n",
        "y_proba = model.predict_proba(X_test)[:, 1]\n",
        "roc_score = roc_auc_score(y_test, y_proba)\n",
        "\n",
        "print(\"ROC-AUC Score:\", roc_score)\n"
      ],
      "metadata": {
        "colab": {
          "base_uri": "https://localhost:8080/"
        },
        "id": "5PUO4L2KuAJc",
        "outputId": "1159ead0-c59f-46d0-e3ea-f93eddfa1105"
      },
      "execution_count": 55,
      "outputs": [
        {
          "output_type": "stream",
          "name": "stdout",
          "text": [
            "ROC-AUC Score: 0.8235414116687065\n"
          ]
        }
      ]
    },
    {
      "cell_type": "code",
      "source": [
        "# 17. Write a Python program to train Logistic Regression using a custom learning rate (C=0.5) and evaluate\n",
        "#     accuracy\n",
        "\n",
        "model_custom_C = LogisticRegression(C=0.5)\n",
        "model_custom_C.fit(X_train, y_train)\n",
        "print(\"Custom C Accuracy:\", model_custom_C.score(X_test, y_test))\n"
      ],
      "metadata": {
        "colab": {
          "base_uri": "https://localhost:8080/"
        },
        "id": "tHUJnBFnuE27",
        "outputId": "15851977-1730-4a19-feea-378662d8637f"
      },
      "execution_count": 56,
      "outputs": [
        {
          "output_type": "stream",
          "name": "stdout",
          "text": [
            "Custom C Accuracy: 0.7692307692307693\n"
          ]
        }
      ]
    },
    {
      "cell_type": "code",
      "source": [
        "# 18. Write a Python program to train Logistic Regression and identify important features based on model\n",
        "#     coefficients\n",
        "\n",
        "importance = pd.Series(model.coef_[0], index=X.columns)\n",
        "importance.sort_values(ascending=False).plot(kind='bar')\n",
        "plt.title(\"Feature Importance\")\n",
        "plt.show()\n"
      ],
      "metadata": {
        "colab": {
          "base_uri": "https://localhost:8080/",
          "height": 508
        },
        "id": "Sh5BHDoluKy5",
        "outputId": "24239bab-1c0b-4fa5-af6d-281b840a4054"
      },
      "execution_count": 57,
      "outputs": [
        {
          "output_type": "display_data",
          "data": {
            "text/plain": [
              "<Figure size 640x480 with 1 Axes>"
            ],
            "image/png": "[encoded data removed]"
          },
          "metadata": {}
        }
      ]
    },
    {
      "cell_type": "code",
      "source": [
        "# 19. Write a Python program to train Logistic Regression and evaluate its performance using Cohen’s Kappa\n",
        "#     Score\n",
        "\n",
        "from sklearn.metrics import cohen_kappa_score\n",
        "\n",
        "y_pred = model.predict(X_test)\n",
        "kappa = cohen_kappa_score(y_test, y_pred)\n",
        "\n",
        "print(\"Cohen's Kappa Score:\", kappa)\n",
        "\n"
      ],
      "metadata": {
        "colab": {
          "base_uri": "https://localhost:8080/"
        },
        "id": "paz9HHHVuQ-F",
        "outputId": "d420b146-f934-41e2-d4b8-8edc940897b4"
      },
      "execution_count": 58,
      "outputs": [
        {
          "output_type": "stream",
          "name": "stdout",
          "text": [
            "Cohen's Kappa Score: 0.5200854266246313\n"
          ]
        }
      ]
    },
    {
      "cell_type": "code",
      "source": [
        "# 20. Write a Python program to train Logistic Regression and visualize the Precision-Recall Curve for binary\n",
        "#     classification\n",
        "\n",
        "from sklearn.metrics import precision_recall_curve, PrecisionRecallDisplay\n",
        "\n",
        "precision, recall, _ = precision_recall_curve(y_test, y_proba)\n",
        "disp = PrecisionRecallDisplay(precision=precision, recall=recall)\n",
        "disp.plot()\n",
        "plt.title(\"Precision-Recall Curve\")\n",
        "plt.show()\n",
        "\n"
      ],
      "metadata": {
        "colab": {
          "base_uri": "https://localhost:8080/",
          "height": 472
        },
        "id": "phesf2g5uXAm",
        "outputId": "8794c93d-fafd-4341-b7d4-dc57459cb504"
      },
      "execution_count": 59,
      "outputs": [
        {
          "output_type": "display_data",
          "data": {
            "text/plain": [
              "<Figure size 640x480 with 1 Axes>"
            ],
            "image/png": "[encoded data removed]"
          },
          "metadata": {}
        }
      ]
    },
    {
      "cell_type": "code",
      "source": [
        "# 21. Write a Python program to train Logistic Regression with different solvers (liblinear, saga, lbfgs) and compare\n",
        "#     their accuracy\n",
        "\n",
        "\n",
        "solvers = ['liblinear', 'saga', 'lbfgs']\n",
        "for s in solvers:\n",
        "    model = LogisticRegression(solver=s, max_iter=10000)\n",
        "    model.fit(X_train, y_train)\n",
        "    acc = model.score(X_test, y_test)\n",
        "    print(f\"Solver: {s} => Accuracy: {acc:.2f}\")\n",
        "\n"
      ],
      "metadata": {
        "colab": {
          "base_uri": "https://localhost:8080/"
        },
        "id": "15zU0X-5uf2G",
        "outputId": "bf6ed650-6173-41e6-de3b-f86248288c8f"
      },
      "execution_count": 60,
      "outputs": [
        {
          "output_type": "stream",
          "name": "stdout",
          "text": [
            "Solver: liblinear => Accuracy: 0.77\n",
            "Solver: saga => Accuracy: 0.73\n",
            "Solver: lbfgs => Accuracy: 0.77\n"
          ]
        }
      ]
    },
    {
      "cell_type": "code",
      "source": [
        "# 22.  Write a Python program to train Logistic Regression and evaluate its performance using Matthews\n",
        "#      Correlation Coefficient (MCC).\n",
        "\n",
        "from sklearn.metrics import matthews_corrcoef\n",
        "\n",
        "y_pred = model.predict(X_test)\n",
        "mcc = matthews_corrcoef(y_test, y_pred)\n",
        "\n",
        "print(\"Matthews Correlation Coefficient:\", mcc)"
      ],
      "metadata": {
        "colab": {
          "base_uri": "https://localhost:8080/"
        },
        "id": "apNbHvxQul9C",
        "outputId": "0246736e-7fce-4c8a-f98e-dd9351827ae4"
      },
      "execution_count": 61,
      "outputs": [
        {
          "output_type": "stream",
          "name": "stdout",
          "text": [
            "Matthews Correlation Coefficient: 0.5201404330699525\n"
          ]
        }
      ]
    },
    {
      "cell_type": "code",
      "source": [
        "# 23.  Write a Python program to train Logistic Regression on both raw and standardized data. Compare their\n",
        "#      accuracy to see the impact of feature scaling\n",
        "\n",
        "model_raw = LogisticRegression()\n",
        "model_raw.fit(X_train, y_train)\n",
        "acc_raw = model_raw.score(X_test, y_test)\n",
        "\n",
        "model_scaled = LogisticRegression()\n",
        "model_scaled.fit(X_scaled_train, y_train)\n",
        "acc_scaled = model_scaled.score(X_scaled_test, y_test)\n",
        "\n",
        "print(f\"Raw Accuracy: {acc_raw:.2f}\")\n",
        "print(f\"Standardized Accuracy: {acc_scaled:.2f}\")\n"
      ],
      "metadata": {
        "colab": {
          "base_uri": "https://localhost:8080/"
        },
        "id": "MdX4m-wruuPd",
        "outputId": "fc2ece2b-7d51-44dc-c642-0a151fbe938c"
      },
      "execution_count": 62,
      "outputs": [
        {
          "output_type": "stream",
          "name": "stdout",
          "text": [
            "Raw Accuracy: 0.77\n",
            "Standardized Accuracy: 0.77\n"
          ]
        }
      ]
    },
    {
      "cell_type": "code",
      "source": [
        "# 24. Write a Python program to train Logistic Regression and find the optimal C (regularization strength) using\n",
        "#     cross-validation\n",
        "\n",
        "from sklearn.model_selection import cross_val_score\n",
        "from sklearn.datasets import load_breast_cancer\n",
        "from sklearn.preprocessing import StandardScaler\n",
        "import pandas as pd\n",
        "\n",
        "# Load and scale the breast cancer dataset\n",
        "data = load_breast_cancer()\n",
        "X = pd.DataFrame(data.data, columns=data.feature_names)\n",
        "y = pd.Series(data.target)\n",
        "\n",
        "scaler = StandardScaler()\n",
        "X_scaled = scaler.fit_transform(X)\n",
        "\n",
        "\n",
        "C_values = [0.01, 0.1, 1, 10, 100]\n",
        "for c in C_values:\n",
        "    model = LogisticRegression(C=c, max_iter=10000)\n",
        "    scores = cross_val_score(model, X_scaled, y, cv=5)\n",
        "    print(f\"C={c} => CV Accuracy: {scores.mean():.2f}\")"
      ],
      "metadata": {
        "colab": {
          "base_uri": "https://localhost:8080/"
        },
        "id": "J4Hspj1-u1qw",
        "outputId": "4ea6afdc-b208-4786-ba5f-0e92d7eedd6b"
      },
      "execution_count": 63,
      "outputs": [
        {
          "output_type": "stream",
          "name": "stdout",
          "text": [
            "C=0.01 => CV Accuracy: 0.95\n",
            "C=0.1 => CV Accuracy: 0.98\n",
            "C=1 => CV Accuracy: 0.98\n",
            "C=10 => CV Accuracy: 0.97\n",
            "C=100 => CV Accuracy: 0.96\n"
          ]
        }
      ]
    },
    {
      "cell_type": "code",
      "source": [
        "# 25. Write a Python program to train Logistic Regression, save the trained model using joblib, and load it again to\n",
        "#     make predictions.\n",
        "\n",
        "import joblib\n",
        "from sklearn.linear_model import LogisticRegression\n",
        "from sklearn.model_selection import train_test_split\n",
        "from sklearn.datasets import load_breast_cancer\n",
        "from sklearn.preprocessing import StandardScaler\n",
        "import pandas as pd\n",
        "\n",
        "# Load dataset\n",
        "data = load_breast_cancer()\n",
        "X = pd.DataFrame(data.data, columns=data.feature_names)\n",
        "y = pd.Series(data.target)\n",
        "\n",
        "# Split data\n",
        "X_train, X_test, y_train, y_test = train_test_split(X, y, test_size=0.2, random_state=42)\n",
        "\n",
        "# Train model\n",
        "model = LogisticRegression(max_iter=10000)\n",
        "model.fit(X_train, y_train)\n",
        "\n",
        "\n",
        "# Save\n",
        "joblib.dump(model, 'logistic_model.pkl')\n",
        "\n",
        "# Load\n",
        "loaded_model = joblib.load('logistic_model.pkl')\n",
        "accuracy_loaded = loaded_model.score(X_test, y_test)\n",
        "print(\"Accuracy (Loaded Model):\", accuracy_loaded)"
      ],
      "metadata": {
        "colab": {
          "base_uri": "https://localhost:8080/"
        },
        "id": "xynP_CUvu7w4",
        "outputId": "7ab86408-a124-4967-e2d6-528796467242"
      },
      "execution_count": 64,
      "outputs": [
        {
          "output_type": "stream",
          "name": "stdout",
          "text": [
            "Accuracy (Loaded Model): 0.956140350877193\n"
          ]
        }
      ]
    }
  ]
}